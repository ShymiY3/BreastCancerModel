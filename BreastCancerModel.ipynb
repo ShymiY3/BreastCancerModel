{
  "nbformat": 4,
  "nbformat_minor": 0,
  "metadata": {
    "colab": {
      "provenance": [],
      "gpuType": "T4",
      "collapsed_sections": [
        "DTpbi7vaYHz7",
        "8nZKxNm9YNO8",
        "xWxGSXR1YB8S",
        "yH6pZouSYXUM",
        "yKbPU07EY15t",
        "TBzwcOkZY9o4"
      ]
    },
    "kernelspec": {
      "name": "python3",
      "display_name": "Python 3"
    },
    "language_info": {
      "name": "python"
    },
    "accelerator": "GPU"
  },
  "cells": [
    {
      "cell_type": "markdown",
      "source": [
        "# Breast Cancer Prediction Model\n",
        "Dataset: [kaggle.com](https://www.kaggle.com/datasets/utkarshx27/breast-cancer-wisconsin-diagnostic-dataset)\n",
        "\n",
        "### Deep Neural Network to predict a cancer stance: wheter it is benign (B) or malignant (M).\n",
        "\n",
        "\n",
        "## Tools useed:\n",
        "> * pythorch\n",
        "* pandas\n",
        "* matplotlib\n",
        "* numpy\n",
        "\n",
        "## Data details :\n",
        "\n",
        ">* y. The outcomes. A factor with two levels denoting whether a mass is malignant (\"M\") or benign (\"B\").\n",
        "* x. The predictors. A matrix with the mean, standard error and worst value of each of 10 nuclear measurements on the slide, for 30 total features per biopsy:\n",
        "  * radius - Nucleus radius (mean of distances from center to points on perimeter).\n",
        "  * texture - Nucleus texture (standard deviation of grayscale values).\n",
        "  * perimeter - Nucleus perimeter.\n",
        "  * area - Nucleus area.\n",
        "  * smoothness - Nucleus smoothness (local variation in radius lengths).\n",
        "  * compactness - Nucleus compactness (perimeter^2/area - 1).\n",
        "  * concavity -  Nucleus concavity (severity of concave portions of the contour).\n",
        "  * concave_pts - Number of concave portions of the nucleus contour.\n",
        "  * symmetry - Nucleus symmetry.\n",
        "  * fractal_dim - Nucleus fractal dimension (\"coastline approximation\" -1).\n",
        "\n"
      ],
      "metadata": {
        "id": "dD3pLS2pt3ib"
      }
    },
    {
      "cell_type": "code",
      "execution_count": null,
      "metadata": {
        "id": "uAPmQn60MGRz"
      },
      "outputs": [],
      "source": [
        "# !pip install kaggle\n",
        "# !mkdir ~/.kaggle\n",
        "# !cp /content/drive/MyDrive/kaggle.json ~/.kaggle\n",
        "# !chmod 600 ~/.kaggle/kaggle.json\n",
        "# !kaggle datasets download utkarshx27/breast-cancer-wisconsin-diagnostic-dataset\n",
        "# !unzip /content/breast-cancer-wisconsin-diagnostic-dataset.zip"
      ]
    },
    {
      "cell_type": "code",
      "source": [
        "import pandas as pd\n",
        "import numpy as np\n",
        "import torch\n",
        "import torch.nn as nn\n",
        "import torch.nn.functional as F\n",
        "from torch.utils.data import random_split, TensorDataset, DataLoader\n",
        "from matplotlib import pyplot as plt"
      ],
      "metadata": {
        "id": "PiN1ZRX3QH5W"
      },
      "execution_count": null,
      "outputs": []
    },
    {
      "cell_type": "markdown",
      "source": [
        "# Learn data"
      ],
      "metadata": {
        "id": "DTpbi7vaYHz7"
      }
    },
    {
      "cell_type": "code",
      "source": [
        "df = pd.read_csv('brca.csv', index_col=0)"
      ],
      "metadata": {
        "id": "g262nk2KTMeV"
      },
      "execution_count": null,
      "outputs": []
    },
    {
      "cell_type": "code",
      "source": [
        "df.info()"
      ],
      "metadata": {
        "colab": {
          "base_uri": "https://localhost:8080/"
        },
        "id": "YdKsbGSuXhAz",
        "outputId": "200eacbb-c9f8-4966-acbe-da428c6d5495"
      },
      "execution_count": null,
      "outputs": [
        {
          "output_type": "stream",
          "name": "stdout",
          "text": [
            "<class 'pandas.core.frame.DataFrame'>\n",
            "Int64Index: 569 entries, 1 to 569\n",
            "Data columns (total 31 columns):\n",
            " #   Column               Non-Null Count  Dtype  \n",
            "---  ------               --------------  -----  \n",
            " 0   x.radius_mean        569 non-null    float64\n",
            " 1   x.texture_mean       569 non-null    float64\n",
            " 2   x.perimeter_mean     569 non-null    float64\n",
            " 3   x.area_mean          569 non-null    float64\n",
            " 4   x.smoothness_mean    569 non-null    float64\n",
            " 5   x.compactness_mean   569 non-null    float64\n",
            " 6   x.concavity_mean     569 non-null    float64\n",
            " 7   x.concave_pts_mean   569 non-null    float64\n",
            " 8   x.symmetry_mean      569 non-null    float64\n",
            " 9   x.fractal_dim_mean   569 non-null    float64\n",
            " 10  x.radius_se          569 non-null    float64\n",
            " 11  x.texture_se         569 non-null    float64\n",
            " 12  x.perimeter_se       569 non-null    float64\n",
            " 13  x.area_se            569 non-null    float64\n",
            " 14  x.smoothness_se      569 non-null    float64\n",
            " 15  x.compactness_se     569 non-null    float64\n",
            " 16  x.concavity_se       569 non-null    float64\n",
            " 17  x.concave_pts_se     569 non-null    float64\n",
            " 18  x.symmetry_se        569 non-null    float64\n",
            " 19  x.fractal_dim_se     569 non-null    float64\n",
            " 20  x.radius_worst       569 non-null    float64\n",
            " 21  x.texture_worst      569 non-null    float64\n",
            " 22  x.perimeter_worst    569 non-null    float64\n",
            " 23  x.area_worst         569 non-null    float64\n",
            " 24  x.smoothness_worst   569 non-null    float64\n",
            " 25  x.compactness_worst  569 non-null    float64\n",
            " 26  x.concavity_worst    569 non-null    float64\n",
            " 27  x.concave_pts_worst  569 non-null    float64\n",
            " 28  x.symmetry_worst     569 non-null    float64\n",
            " 29  x.fractal_dim_worst  569 non-null    float64\n",
            " 30  y                    569 non-null    object \n",
            "dtypes: float64(30), object(1)\n",
            "memory usage: 142.2+ KB\n"
          ]
        }
      ]
    },
    {
      "cell_type": "code",
      "source": [
        "df['y'].unique()"
      ],
      "metadata": {
        "colab": {
          "base_uri": "https://localhost:8080/"
        },
        "id": "i1WEIvJ5XjIl",
        "outputId": "7a7005b3-f7bf-49ae-d012-4b3b232385d4"
      },
      "execution_count": null,
      "outputs": [
        {
          "output_type": "execute_result",
          "data": {
            "text/plain": [
              "array(['B', 'M'], dtype=object)"
            ]
          },
          "metadata": {},
          "execution_count": 5
        }
      ]
    },
    {
      "cell_type": "code",
      "source": [
        "df['y'].value_counts()"
      ],
      "metadata": {
        "colab": {
          "base_uri": "https://localhost:8080/"
        },
        "id": "KeN2RL41XmyE",
        "outputId": "45d7e663-b0bd-4421-9333-8d3af05bdae6"
      },
      "execution_count": null,
      "outputs": [
        {
          "output_type": "execute_result",
          "data": {
            "text/plain": [
              "B    357\n",
              "M    212\n",
              "Name: y, dtype: int64"
            ]
          },
          "metadata": {},
          "execution_count": 6
        }
      ]
    },
    {
      "cell_type": "markdown",
      "source": [
        "# Data transformation"
      ],
      "metadata": {
        "id": "8nZKxNm9YNO8"
      }
    },
    {
      "cell_type": "code",
      "source": [
        "translate = {'B':0, 'M':1}"
      ],
      "metadata": {
        "id": "S1BlWZNaYf87"
      },
      "execution_count": null,
      "outputs": []
    },
    {
      "cell_type": "code",
      "source": [
        "df.y.replace(translate, inplace=True)"
      ],
      "metadata": {
        "id": "T6oWlDeHWbDX"
      },
      "execution_count": null,
      "outputs": []
    },
    {
      "cell_type": "code",
      "source": [
        "inputs = torch.tensor(df[df.columns[:-1]].to_numpy()).to(torch.float)\n",
        "targets = torch.tensor(df[df.columns[-1]].to_numpy()).to(torch.float)\n",
        "inputs[:3], targets[:10]"
      ],
      "metadata": {
        "colab": {
          "base_uri": "https://localhost:8080/"
        },
        "id": "hm1BBlysTVz3",
        "outputId": "df1bbde3-8ea7-4081-e380-e5ac8b33da05"
      },
      "execution_count": null,
      "outputs": [
        {
          "output_type": "execute_result",
          "data": {
            "text/plain": [
              "(tensor([[1.3540e+01, 1.4360e+01, 8.7460e+01, 5.6630e+02, 9.7790e-02, 8.1290e-02,\n",
              "          6.6640e-02, 4.7810e-02, 1.8850e-01, 5.7660e-02, 2.6990e-01, 7.8860e-01,\n",
              "          2.0580e+00, 2.3560e+01, 8.4620e-03, 1.4600e-02, 2.3870e-02, 1.3150e-02,\n",
              "          1.9800e-02, 2.3000e-03, 1.5110e+01, 1.9260e+01, 9.9700e+01, 7.1120e+02,\n",
              "          1.4400e-01, 1.7730e-01, 2.3900e-01, 1.2880e-01, 2.9770e-01, 7.2590e-02],\n",
              "         [1.3080e+01, 1.5710e+01, 8.5630e+01, 5.2000e+02, 1.0750e-01, 1.2700e-01,\n",
              "          4.5680e-02, 3.1100e-02, 1.9670e-01, 6.8110e-02, 1.8520e-01, 7.4770e-01,\n",
              "          1.3830e+00, 1.4670e+01, 4.0970e-03, 1.8980e-02, 1.6980e-02, 6.4900e-03,\n",
              "          1.6780e-02, 2.4250e-03, 1.4500e+01, 2.0490e+01, 9.6090e+01, 6.3050e+02,\n",
              "          1.3120e-01, 2.7760e-01, 1.8900e-01, 7.2830e-02, 3.1840e-01, 8.1830e-02],\n",
              "         [9.5040e+00, 1.2440e+01, 6.0340e+01, 2.7390e+02, 1.0240e-01, 6.4920e-02,\n",
              "          2.9560e-02, 2.0760e-02, 1.8150e-01, 6.9050e-02, 2.7730e-01, 9.7680e-01,\n",
              "          1.9090e+00, 1.5700e+01, 9.6060e-03, 1.4320e-02, 1.9850e-02, 1.4210e-02,\n",
              "          2.0270e-02, 2.9680e-03, 1.0230e+01, 1.5660e+01, 6.5130e+01, 3.1490e+02,\n",
              "          1.3240e-01, 1.1480e-01, 8.8670e-02, 6.2270e-02, 2.4500e-01, 7.7730e-02]]),\n",
              " tensor([0., 0., 0., 0., 0., 0., 0., 0., 0., 0.]))"
            ]
          },
          "metadata": {},
          "execution_count": 9
        }
      ]
    },
    {
      "cell_type": "code",
      "source": [
        "num_items = len(inputs)\n",
        "num_items"
      ],
      "metadata": {
        "colab": {
          "base_uri": "https://localhost:8080/"
        },
        "id": "PUZevKfhboh5",
        "outputId": "16a7c583-4d4c-4083-f981-b910ab854845"
      },
      "execution_count": null,
      "outputs": [
        {
          "output_type": "execute_result",
          "data": {
            "text/plain": [
              "569"
            ]
          },
          "metadata": {},
          "execution_count": 10
        }
      ]
    },
    {
      "cell_type": "code",
      "source": [
        "dataset = TensorDataset(inputs, targets)\n",
        "dataset[-1]"
      ],
      "metadata": {
        "colab": {
          "base_uri": "https://localhost:8080/"
        },
        "id": "r90s4ncVTYBP",
        "outputId": "09065568-3dd4-4f10-8e4e-27d9a68022dd"
      },
      "execution_count": null,
      "outputs": [
        {
          "output_type": "execute_result",
          "data": {
            "text/plain": [
              "(tensor([2.0600e+01, 2.9330e+01, 1.4010e+02, 1.2650e+03, 1.1780e-01, 2.7700e-01,\n",
              "         3.5140e-01, 1.5200e-01, 2.3970e-01, 7.0160e-02, 7.2600e-01, 1.5950e+00,\n",
              "         5.7720e+00, 8.6220e+01, 6.5220e-03, 6.1580e-02, 7.1170e-02, 1.6640e-02,\n",
              "         2.3240e-02, 6.1850e-03, 2.5740e+01, 3.9420e+01, 1.8460e+02, 1.8210e+03,\n",
              "         1.6500e-01, 8.6810e-01, 9.3870e-01, 2.6500e-01, 4.0870e-01, 1.2400e-01]),\n",
              " tensor(1.))"
            ]
          },
          "metadata": {},
          "execution_count": 11
        }
      ]
    },
    {
      "cell_type": "code",
      "source": [
        "train_size = int(0.8 *num_items)\n",
        "val_size = int(0.1 * num_items)\n",
        "test_size = num_items - train_size - val_size\n",
        "train_size, val_size, test_size"
      ],
      "metadata": {
        "colab": {
          "base_uri": "https://localhost:8080/"
        },
        "id": "Oj6QhnUebd16",
        "outputId": "ad1e24ec-ccc8-41bd-fb99-0616695c0d76"
      },
      "execution_count": null,
      "outputs": [
        {
          "output_type": "execute_result",
          "data": {
            "text/plain": [
              "(455, 56, 58)"
            ]
          },
          "metadata": {},
          "execution_count": 12
        }
      ]
    },
    {
      "cell_type": "code",
      "source": [
        "train_set, val_set, test_set = random_split(dataset, [train_size, val_size, test_size])\n",
        "train_set[0][0].dtype"
      ],
      "metadata": {
        "id": "Il8OQFaXbBZQ",
        "colab": {
          "base_uri": "https://localhost:8080/"
        },
        "outputId": "9784299e-31ef-440f-8750-bbd15155c773"
      },
      "execution_count": null,
      "outputs": [
        {
          "output_type": "execute_result",
          "data": {
            "text/plain": [
              "torch.float32"
            ]
          },
          "metadata": {},
          "execution_count": 13
        }
      ]
    },
    {
      "cell_type": "code",
      "source": [
        "batch_size = 256\n",
        "\n",
        "train_dl = DataLoader(train_set, batch_size=batch_size, shuffle=True, num_workers=2, pin_memory=True)\n",
        "val_dl = DataLoader(val_set, batch_size=batch_size, num_workers=2, pin_memory=True)"
      ],
      "metadata": {
        "id": "bo1P2QHFdF4_"
      },
      "execution_count": null,
      "outputs": []
    },
    {
      "cell_type": "markdown",
      "source": [
        "# Model:\n",
        "\n",
        "> * ### 30 nodes input layer\n",
        "* ### 3 hidden layers with sizes: 256, 128, 64\n",
        "* ### binary output"
      ],
      "metadata": {
        "id": "xWxGSXR1YB8S"
      }
    },
    {
      "cell_type": "code",
      "source": [
        "class BreastCancerModel(nn.Module):\n",
        "  def __init__(self, in_size, hidden1_size, hidden2_size, hidden3_size, out_size):\n",
        "    super().__init__()\n",
        "    self.network = nn.Sequential(\n",
        "        nn.Linear(in_size, hidden1_size),\n",
        "        nn.ReLU(),\n",
        "        nn.Dropout(0.5),\n",
        "        nn.Linear(hidden1_size, hidden2_size),\n",
        "        nn.ReLU(),\n",
        "        nn.Dropout(0.5),\n",
        "        nn.Linear(hidden2_size, hidden3_size),\n",
        "        nn.ReLU(),\n",
        "        nn.Linear(hidden3_size, out_size),\n",
        "        nn.Sigmoid()\n",
        "    )\n",
        "\n",
        "  def forward(self, xb):\n",
        "    xb = self.network(xb)\n",
        "    return xb\n",
        "\n",
        "  def training_step(self, batch):\n",
        "    data, labels = batch\n",
        "    out = self(data)\n",
        "    loss = F.binary_cross_entropy(out, labels.unsqueeze(1))\n",
        "    return loss\n",
        "\n",
        "  def validation_step(self, batch):\n",
        "    data, labels = batch\n",
        "    out = self(data)\n",
        "    loss = F.binary_cross_entropy(out, labels.unsqueeze(1))\n",
        "    acc = accuracy(out, labels)\n",
        "\n",
        "    return {'val_loss':loss.detach(), 'val_acc':acc}\n",
        "\n",
        "  def validation_epoch_end(self, outputs):\n",
        "      batch_losses = [x['val_loss'] for x in outputs]\n",
        "      epoch_loss = torch.stack(batch_losses).mean()\n",
        "      batch_acc = [x['val_acc'] for x in outputs]\n",
        "      epoch_acc = torch.stack(batch_acc).mean()\n",
        "      return {'val_loss':epoch_loss.item(), 'val_acc':epoch_acc.item()}\n",
        "\n",
        "  def epoch_end(self, epoch, results):\n",
        "    return 'Epoch nr: {};\\tTrain loss: {:.4f};\\tValidation loss: {:.4f};\\tValidation accuracy: {:.8f}'.format(\n",
        "        epoch, results['train_loss'], results['val_loss'], results['val_acc'])\n",
        "\n",
        ""
      ],
      "metadata": {
        "id": "9yA7zbrseiQI"
      },
      "execution_count": null,
      "outputs": []
    },
    {
      "cell_type": "code",
      "source": [
        "def accuracy(outputs, labels):\n",
        "  preds = torch.round(outputs)\n",
        "  return torch.tensor(torch.sum(preds.reshape(-1) == labels).item()/len(preds))"
      ],
      "metadata": {
        "id": "iyaxAEccwqhD"
      },
      "execution_count": null,
      "outputs": []
    },
    {
      "cell_type": "code",
      "source": [
        "input_size = 30\n",
        "hidden1_size = 256\n",
        "hidden2_size = 128\n",
        "hidden3_size = 64\n",
        "out_size = 1"
      ],
      "metadata": {
        "id": "e5zh7o_r3fMG"
      },
      "execution_count": null,
      "outputs": []
    },
    {
      "cell_type": "code",
      "source": [
        "model = BreastCancerModel(input_size, hidden1_size, hidden2_size, hidden3_size, out_size)"
      ],
      "metadata": {
        "id": "q8JihY0s2-bw"
      },
      "execution_count": null,
      "outputs": []
    },
    {
      "cell_type": "markdown",
      "source": [
        "# Functions to train model implementation"
      ],
      "metadata": {
        "id": "yH6pZouSYXUM"
      }
    },
    {
      "cell_type": "code",
      "source": [
        "def get_default_device():\n",
        "    \"\"\"Pick GPU if available, else CPU\"\"\"\n",
        "    if torch.cuda.is_available():\n",
        "        return torch.device('cuda')\n",
        "    else:\n",
        "        return torch.device('cpu')\n",
        "\n",
        "def to_device(data, device):\n",
        "    \"\"\"Move tensor(s) to chosen device\"\"\"\n",
        "    if isinstance(data, (list,tuple)):\n",
        "        return [to_device(x, device) for x in data]\n",
        "    return data.to(device, non_blocking=True)\n",
        "\n",
        "class DeviceDataLoader():\n",
        "    \"\"\"Wrap a dataloader to move data to a device\"\"\"\n",
        "    def __init__(self, dl, device):\n",
        "        self.dl = dl\n",
        "        self.device = device\n",
        "\n",
        "    def __iter__(self):\n",
        "        \"\"\"Yield a batch of data after moving it to device\"\"\"\n",
        "        for b in self.dl:\n",
        "            yield to_device(b, self.device)\n",
        "\n",
        "    def __len__(self):\n",
        "        \"\"\"Number of batches\"\"\"\n",
        "        return len(self.dl)"
      ],
      "metadata": {
        "id": "aaP3H7Ga1aSy"
      },
      "execution_count": null,
      "outputs": []
    },
    {
      "cell_type": "code",
      "source": [
        "device = get_default_device()"
      ],
      "metadata": {
        "id": "MGhH22-l1YJ4"
      },
      "execution_count": null,
      "outputs": []
    },
    {
      "cell_type": "code",
      "source": [
        "train_dl = DeviceDataLoader(train_dl, device)\n",
        "val_dl = DeviceDataLoader(val_dl, device)\n",
        "to_device(model, device);\n"
      ],
      "metadata": {
        "id": "iIPgtlhW1r3-"
      },
      "execution_count": null,
      "outputs": []
    },
    {
      "cell_type": "code",
      "source": [
        "@torch.no_grad()\n",
        "def evaluate(model, val_loader):\n",
        "  model.eval()\n",
        "  outputs = [model.validation_step(x) for x in val_loader]\n",
        "  return model.validation_epoch_end(outputs)\n",
        "\n",
        "def fit(epochs, lr, model, train_loader, val_loader, optm=torch.optim.SGD):\n",
        "  history = []\n",
        "  opti = optm(model.parameters(), lr)\n",
        "  for epoch in range(epochs):\n",
        "\n",
        "    model.train()\n",
        "    train_losses = []\n",
        "    for batch in train_loader:\n",
        "      loss = model.training_step(batch)\n",
        "      train_losses.append(loss)\n",
        "      loss.backward()\n",
        "      opti.step()\n",
        "      opti.zero_grad()\n",
        "\n",
        "    results = evaluate(model, val_loader)\n",
        "    results['train_loss'] = torch.stack(train_losses).mean().item()\n",
        "    if not epoch%10:\n",
        "      print(model.epoch_end(epoch, results))\n",
        "    history.append(results)\n",
        "  return history"
      ],
      "metadata": {
        "id": "CC_UbV4G324v"
      },
      "execution_count": null,
      "outputs": []
    },
    {
      "cell_type": "code",
      "source": [
        "def get_lr(optimizer):\n",
        "    for param_group in optimizer.param_groups:\n",
        "        return param_group['lr']\n",
        "\n",
        "def fit_one_cycle(epochs, max_lr, model, train_loader, val_loader,\n",
        "                  weight_decay=0, grad_clip=None, opt_func=torch.optim.SGD):\n",
        "    torch.cuda.empty_cache()\n",
        "    history = []\n",
        "\n",
        "    # Set up cutom optimizer with weight decay\n",
        "    optimizer = opt_func(model.parameters(), max_lr, weight_decay=weight_decay)\n",
        "    # Set up one-cycle learning rate scheduler\n",
        "    sched = torch.optim.lr_scheduler.OneCycleLR(optimizer, max_lr, epochs=epochs,\n",
        "                                                steps_per_epoch=len(train_loader))\n",
        "\n",
        "    for epoch in range(epochs):\n",
        "        # Training Phase\n",
        "        model.train()\n",
        "        train_losses = []\n",
        "        lrs = []\n",
        "        for batch in train_loader:\n",
        "            loss = model.training_step(batch)\n",
        "            train_losses.append(loss)\n",
        "            loss.backward()\n",
        "\n",
        "            # Gradient clipping\n",
        "            if grad_clip:\n",
        "                nn.utils.clip_grad_value_(model.parameters(), grad_clip)\n",
        "\n",
        "            optimizer.step()\n",
        "            optimizer.zero_grad()\n",
        "\n",
        "            # Record & update learning rate\n",
        "            lrs.append(get_lr(optimizer))\n",
        "            sched.step()\n",
        "\n",
        "        # Validation phase\n",
        "        result = evaluate(model, val_loader)\n",
        "        result['train_loss'] = torch.stack(train_losses).mean().item()\n",
        "        result['lrs'] = lrs\n",
        "        if not epoch%10:\n",
        "           print(model.epoch_end(epoch, result))\n",
        "        history.append(result)\n",
        "    return history"
      ],
      "metadata": {
        "id": "FxBxwVzHU6KP"
      },
      "execution_count": null,
      "outputs": []
    },
    {
      "cell_type": "markdown",
      "source": [
        "# Model training"
      ],
      "metadata": {
        "id": "yKbPU07EY15t"
      }
    },
    {
      "cell_type": "code",
      "source": [
        "epochs = 200\n",
        "max_lr = 0.01\n",
        "grad_clip = 0.05\n",
        "weight_decay = 1e-6\n",
        "opt_func = torch.optim.Adam"
      ],
      "metadata": {
        "id": "0jAJ1iXsVEfF"
      },
      "execution_count": null,
      "outputs": []
    },
    {
      "cell_type": "code",
      "source": [
        "history =[]"
      ],
      "metadata": {
        "id": "G43YLc5G8zpO"
      },
      "execution_count": null,
      "outputs": []
    },
    {
      "cell_type": "code",
      "source": [
        "history += fit_one_cycle(epochs, max_lr, model, train_dl, val_dl,\n",
        "                             grad_clip=grad_clip,\n",
        "                             weight_decay=weight_decay,\n",
        "                             opt_func=opt_func)"
      ],
      "metadata": {
        "colab": {
          "base_uri": "https://localhost:8080/"
        },
        "id": "KW3wFpoWVMYX",
        "outputId": "1669ef0e-45fb-4e3d-d592-0f40afd96971"
      },
      "execution_count": null,
      "outputs": [
        {
          "output_type": "stream",
          "name": "stdout",
          "text": [
            "Epoch nr: 0;\tTrain loss: 0.1588;\tValidation loss: 0.1348;\tValidation accuracy: 0.94642860\n",
            "Epoch nr: 10;\tTrain loss: 0.1652;\tValidation loss: 0.1341;\tValidation accuracy: 0.94642860\n",
            "Epoch nr: 20;\tTrain loss: 0.1555;\tValidation loss: 0.1272;\tValidation accuracy: 0.94642860\n",
            "Epoch nr: 30;\tTrain loss: 0.1717;\tValidation loss: 0.1712;\tValidation accuracy: 0.89285713\n",
            "Epoch nr: 40;\tTrain loss: 0.2287;\tValidation loss: 0.1907;\tValidation accuracy: 0.92857140\n",
            "Epoch nr: 50;\tTrain loss: 0.2182;\tValidation loss: 0.1728;\tValidation accuracy: 0.92857140\n",
            "Epoch nr: 60;\tTrain loss: 0.2480;\tValidation loss: 0.1521;\tValidation accuracy: 0.94642860\n",
            "Epoch nr: 70;\tTrain loss: 0.2264;\tValidation loss: 0.1578;\tValidation accuracy: 0.92857140\n",
            "Epoch nr: 80;\tTrain loss: 0.2105;\tValidation loss: 0.1604;\tValidation accuracy: 0.91071427\n",
            "Epoch nr: 90;\tTrain loss: 0.2031;\tValidation loss: 0.1669;\tValidation accuracy: 0.92857140\n",
            "Epoch nr: 100;\tTrain loss: 0.1966;\tValidation loss: 0.1502;\tValidation accuracy: 0.92857140\n",
            "Epoch nr: 110;\tTrain loss: 0.1631;\tValidation loss: 0.1450;\tValidation accuracy: 0.92857140\n",
            "Epoch nr: 120;\tTrain loss: 0.1901;\tValidation loss: 0.1608;\tValidation accuracy: 0.89285713\n",
            "Epoch nr: 130;\tTrain loss: 0.1658;\tValidation loss: 0.1711;\tValidation accuracy: 0.89285713\n",
            "Epoch nr: 140;\tTrain loss: 0.1740;\tValidation loss: 0.1619;\tValidation accuracy: 0.91071427\n",
            "Epoch nr: 150;\tTrain loss: 0.2027;\tValidation loss: 0.1534;\tValidation accuracy: 0.91071427\n",
            "Epoch nr: 160;\tTrain loss: 0.1523;\tValidation loss: 0.1203;\tValidation accuracy: 0.92857140\n",
            "Epoch nr: 170;\tTrain loss: 0.1654;\tValidation loss: 0.1353;\tValidation accuracy: 0.92857140\n",
            "Epoch nr: 180;\tTrain loss: 0.1568;\tValidation loss: 0.1362;\tValidation accuracy: 0.92857140\n",
            "Epoch nr: 190;\tTrain loss: 0.1650;\tValidation loss: 0.1439;\tValidation accuracy: 0.92857140\n"
          ]
        }
      ]
    },
    {
      "cell_type": "code",
      "source": [
        "# history += fit(50, 0.01, model, train_dl, val_dl)"
      ],
      "metadata": {
        "id": "wTPB-zROSRZc"
      },
      "execution_count": null,
      "outputs": []
    },
    {
      "cell_type": "code",
      "source": [
        "# history += fit(50, 0.005, model, train_dl, val_dl)"
      ],
      "metadata": {
        "id": "mh1IbyM97cpR"
      },
      "execution_count": null,
      "outputs": []
    },
    {
      "cell_type": "code",
      "source": [
        "# history += fit(50, 0.001, model, train_dl, val_dl)"
      ],
      "metadata": {
        "id": "SUHNSi7LSBsG"
      },
      "execution_count": null,
      "outputs": []
    },
    {
      "cell_type": "markdown",
      "source": [
        "# Results and model testing"
      ],
      "metadata": {
        "id": "TBzwcOkZY9o4"
      }
    },
    {
      "cell_type": "code",
      "source": [
        "test_loader = DeviceDataLoader(DataLoader(test_set, batch_size*2), device)\n",
        "result = evaluate(model, test_loader)\n",
        "result"
      ],
      "metadata": {
        "colab": {
          "base_uri": "https://localhost:8080/"
        },
        "id": "9Ejq1Xdo9oGF",
        "outputId": "49215bc2-6902-4640-c5d4-84a93a31bb9a"
      },
      "execution_count": null,
      "outputs": [
        {
          "output_type": "execute_result",
          "data": {
            "text/plain": [
              "{'val_loss': 0.15318535268306732, 'val_acc': 0.9482758641242981}"
            ]
          },
          "metadata": {},
          "execution_count": 34
        }
      ]
    },
    {
      "cell_type": "code",
      "source": [
        "def predict(data, model):\n",
        "  xb = to_device(data.unsqueeze(0), device)\n",
        "  yb = model(xb.to(torch.float))\n",
        "  _, preds = torch.max(yb, dim=1)\n",
        "  return preds[0].item()"
      ],
      "metadata": {
        "id": "m9_uwSqk7y4x"
      },
      "execution_count": null,
      "outputs": []
    },
    {
      "cell_type": "code",
      "source": [
        "def get_cat(output):\n",
        "  return list(translate.keys())[int(output)]"
      ],
      "metadata": {
        "id": "_6CGl2WTc6Po"
      },
      "execution_count": null,
      "outputs": []
    },
    {
      "cell_type": "code",
      "source": [
        "data, label = test_set[4]\n",
        "\n",
        "print('Label:', get_cat(label.item()), ' Precitced:', get_cat(predict(data, model)))"
      ],
      "metadata": {
        "colab": {
          "base_uri": "https://localhost:8080/"
        },
        "id": "3P9n32TZ8TWC",
        "outputId": "5dce4e1f-54c2-427f-c02b-84c229dd2591"
      },
      "execution_count": null,
      "outputs": [
        {
          "output_type": "stream",
          "name": "stdout",
          "text": [
            "Label: B  Precitced: B\n"
          ]
        }
      ]
    },
    {
      "cell_type": "code",
      "source": [
        "accuracies = [result['val_acc'] for result in history]\n",
        "plt.plot(accuracies)\n",
        "plt.xlabel('epoch')\n",
        "plt.ylabel('accuracy')\n",
        "plt.title('Accuracy vs. No. of epochs');"
      ],
      "metadata": {
        "id": "qE4z9YVfIMZj",
        "colab": {
          "base_uri": "https://localhost:8080/",
          "height": 472
        },
        "outputId": "f8659ff1-ab8e-4576-f65c-6b0bb4063788"
      },
      "execution_count": null,
      "outputs": [
        {
          "output_type": "display_data",
          "data": {
            "text/plain": [
              "<Figure size 640x480 with 1 Axes>"
            ],
            "image/png": "[encoded data removed]"
          },
          "metadata": {}
        }
      ]
    },
    {
      "cell_type": "code",
      "source": [
        "losses = [x['val_loss'] for x in history]\n",
        "plt.plot(losses)\n",
        "plt.xlabel('epoch')\n",
        "plt.ylabel('loss')\n",
        "plt.title('Loss vs. No. of epochs');"
      ],
      "metadata": {
        "colab": {
          "base_uri": "https://localhost:8080/",
          "height": 472
        },
        "id": "Z_nm4HF0TJY8",
        "outputId": "5817b700-04bc-4060-d16b-77766c737665"
      },
      "execution_count": null,
      "outputs": [
        {
          "output_type": "display_data",
          "data": {
            "text/plain": [
              "<Figure size 640x480 with 1 Axes>"
            ],
            "image/png": "[encoded data removed]"
          },
          "metadata": {}
        }
      ]
    },
    {
      "cell_type": "code",
      "source": [
        "train_losses = [x.get('train_loss') for x in history]\n",
        "val_losses = [x['val_loss'] for x in history]\n",
        "plt.plot(train_losses, 'b')\n",
        "plt.plot(val_losses, 'r')\n",
        "plt.xlabel('epoch')\n",
        "plt.ylabel('loss')\n",
        "plt.legend(['Training', 'Validation'])\n",
        "plt.title('Loss vs. No. of epochs');"
      ],
      "metadata": {
        "colab": {
          "base_uri": "https://localhost:8080/",
          "height": 472
        },
        "id": "N21_A7EBTWKW",
        "outputId": "b4390b45-c8ce-411b-a4fe-5bc3894cc068"
      },
      "execution_count": null,
      "outputs": [
        {
          "output_type": "display_data",
          "data": {
            "text/plain": [
              "<Figure size 640x480 with 1 Axes>"
            ],
            "image/png": "[encoded data removed]"
          },
          "metadata": {}
        }
      ]
    }
  ]
}